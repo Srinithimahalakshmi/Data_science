{
 "cells": [
  {
   "cell_type": "markdown",
   "id": "95298aa3",
   "metadata": {
    "papermill": {
     "duration": 0.005035,
     "end_time": "2025-06-25T14:54:05.670858",
     "exception": false,
     "start_time": "2025-06-25T14:54:05.665823",
     "status": "completed"
    },
    "tags": []
   },
   "source": [
    "**This notebook is an exercise in the [Intro to Programming](https://www.kaggle.com/learn/intro-to-programming) course.  You can reference the tutorial at [this link](https://www.kaggle.com/alexisbcook/data-types).**\n",
    "\n",
    "---\n"
   ]
  },
  {
   "cell_type": "markdown",
   "id": "aef72eaa",
   "metadata": {
    "papermill": {
     "duration": 0.00405,
     "end_time": "2025-06-25T14:54:05.679418",
     "exception": false,
     "start_time": "2025-06-25T14:54:05.675368",
     "status": "completed"
    },
    "tags": []
   },
   "source": [
    "In the tutorial, you learned about four different data types: floats, integers, strings, and booleans.  In this exercise, you'll experiment with them.\n",
    "\n",
    "# Set up the notebook\n",
    "\n",
    "Run the next code cell without changes to set up the notebook."
   ]
  },
  {
   "cell_type": "code",
   "execution_count": 1,
   "id": "baff2874",
   "metadata": {
    "execution": {
     "iopub.execute_input": "2025-06-25T14:54:05.689026Z",
     "iopub.status.busy": "2025-06-25T14:54:05.688719Z",
     "iopub.status.idle": "2025-06-25T14:54:07.596040Z",
     "shell.execute_reply": "2025-06-25T14:54:07.595020Z"
    },
    "papermill": {
     "duration": 1.913916,
     "end_time": "2025-06-25T14:54:07.597516",
     "exception": false,
     "start_time": "2025-06-25T14:54:05.683600",
     "status": "completed"
    },
    "tags": []
   },
   "outputs": [
    {
     "name": "stdout",
     "output_type": "stream",
     "text": [
      "Setup complete.\n"
     ]
    }
   ],
   "source": [
    "# Set up the exercise\n",
    "from learntools.core import binder\n",
    "binder.bind(globals())\n",
    "from learntools.intro_to_programming.ex3 import *\n",
    "print('Setup complete.')"
   ]
  },
  {
   "cell_type": "markdown",
   "id": "b4af3027",
   "metadata": {
    "papermill": {
     "duration": 0.004004,
     "end_time": "2025-06-25T14:54:07.606153",
     "exception": false,
     "start_time": "2025-06-25T14:54:07.602149",
     "status": "completed"
    },
    "tags": []
   },
   "source": [
    "# Question 1\n",
    "\n",
    "You have seen how to convert a float to an integer with the `int` function.  Try this out yourself by running the code cell below."
   ]
  },
  {
   "cell_type": "code",
   "execution_count": 2,
   "id": "22efa78a",
   "metadata": {
    "execution": {
     "iopub.execute_input": "2025-06-25T14:54:07.616481Z",
     "iopub.status.busy": "2025-06-25T14:54:07.615996Z",
     "iopub.status.idle": "2025-06-25T14:54:07.621734Z",
     "shell.execute_reply": "2025-06-25T14:54:07.620821Z"
    },
    "papermill": {
     "duration": 0.012438,
     "end_time": "2025-06-25T14:54:07.623070",
     "exception": false,
     "start_time": "2025-06-25T14:54:07.610632",
     "status": "completed"
    },
    "tags": []
   },
   "outputs": [
    {
     "name": "stdout",
     "output_type": "stream",
     "text": [
      "1.0\n",
      "<class 'float'>\n",
      "1\n",
      "<class 'int'>\n"
     ]
    }
   ],
   "source": [
    "# Define a float\n",
    "y = 1.\n",
    "print(y)\n",
    "print(type(y))\n",
    "\n",
    "# Convert float to integer with the int function\n",
    "z = int(y)\n",
    "print(z)\n",
    "print(type(z))"
   ]
  },
  {
   "cell_type": "markdown",
   "id": "98c3f8c9",
   "metadata": {
    "papermill": {
     "duration": 0.0041,
     "end_time": "2025-06-25T14:54:07.631717",
     "exception": false,
     "start_time": "2025-06-25T14:54:07.627617",
     "status": "completed"
    },
    "tags": []
   },
   "source": [
    "In this case, the float you are using has no numbers after the decimal.  \n",
    "- But what happens when you try to convert a float with a fractional part to an integer?  \n",
    "- How does the outcome of the `int` function change for positive and negative numbers?\n",
    "\n",
    "Use the next code cell to investigate and answer these questions.  Feel free to add or remove any lines of code -- it is your workspace!"
   ]
  },
  {
   "cell_type": "code",
   "execution_count": 3,
   "id": "92b9aea8",
   "metadata": {
    "execution": {
     "iopub.execute_input": "2025-06-25T14:54:07.641619Z",
     "iopub.status.busy": "2025-06-25T14:54:07.641330Z",
     "iopub.status.idle": "2025-06-25T14:54:07.646464Z",
     "shell.execute_reply": "2025-06-25T14:54:07.645386Z"
    },
    "papermill": {
     "duration": 0.011789,
     "end_time": "2025-06-25T14:54:07.647878",
     "exception": false,
     "start_time": "2025-06-25T14:54:07.636089",
     "status": "completed"
    },
    "tags": []
   },
   "outputs": [
    {
     "name": "stdout",
     "output_type": "stream",
     "text": [
      "1\n",
      "1\n",
      "-3\n",
      "-2\n"
     ]
    }
   ],
   "source": [
    "# Uncomment and run this code to get started!\n",
    "print(int(1.2321))\n",
    "print(int(1.747))\n",
    "print(int(-3.94535))\n",
    "print(int(-2.19774))"
   ]
  },
  {
   "cell_type": "markdown",
   "id": "5efc28e9",
   "metadata": {
    "papermill": {
     "duration": 0.004348,
     "end_time": "2025-06-25T14:54:07.656902",
     "exception": false,
     "start_time": "2025-06-25T14:54:07.652554",
     "status": "completed"
    },
    "tags": []
   },
   "source": [
    "Once you have an answer, run the code cell below to see the solution.  Viewing the solution will give you credit for answering the problem."
   ]
  },
  {
   "cell_type": "code",
   "execution_count": 4,
   "id": "6abb311d",
   "metadata": {
    "execution": {
     "iopub.execute_input": "2025-06-25T14:54:07.668153Z",
     "iopub.status.busy": "2025-06-25T14:54:07.667340Z",
     "iopub.status.idle": "2025-06-25T14:54:07.674989Z",
     "shell.execute_reply": "2025-06-25T14:54:07.674234Z"
    },
    "papermill": {
     "duration": 0.014568,
     "end_time": "2025-06-25T14:54:07.676421",
     "exception": false,
     "start_time": "2025-06-25T14:54:07.661853",
     "status": "completed"
    },
    "tags": []
   },
   "outputs": [
    {
     "data": {
      "application/javascript": [
       "parent.postMessage({\"jupyterEvent\": \"custom.exercise_interaction\", \"data\": {\"outcomeType\": 1, \"valueTowardsCompletion\": 0.2, \"interactionType\": 1, \"questionType\": 4, \"questionId\": \"1_FloatToInt\", \"learnToolsVersion\": \"0.3.5\", \"failureMessage\": \"\", \"exceptionClass\": \"\", \"trace\": \"\"}}, \"*\")"
      ],
      "text/plain": [
       "<IPython.core.display.Javascript object>"
      ]
     },
     "metadata": {},
     "output_type": "display_data"
    },
    {
     "data": {
      "text/markdown": [
       "<span style=\"color:#33cc33\">Correct:</span> \n",
       "\n",
       "Negative floats are always rounded UP to the closest integer (for instance, both -1.1 and -1.9 are rounded up to -1). Positive floats are always rounded DOWN to the closest integer (for instance, 2.1 and 2.9 are rounded down to 2)."
      ],
      "text/plain": [
       "Correct: \n",
       "\n",
       "Negative floats are always rounded UP to the closest integer (for instance, both -1.1 and -1.9 are rounded up to -1). Positive floats are always rounded DOWN to the closest integer (for instance, 2.1 and 2.9 are rounded down to 2)."
      ]
     },
     "metadata": {},
     "output_type": "display_data"
    }
   ],
   "source": [
    "# Check your answer (Run this code cell to receive credit!)\n",
    "q1.check()"
   ]
  },
  {
   "cell_type": "markdown",
   "id": "02e23ae9",
   "metadata": {
    "papermill": {
     "duration": 0.004291,
     "end_time": "2025-06-25T14:54:07.685594",
     "exception": false,
     "start_time": "2025-06-25T14:54:07.681303",
     "status": "completed"
    },
    "tags": []
   },
   "source": [
    "# Question 2\n",
    "\n",
    "In the tutorial, you learned about booleans (which can take a value of `True` or `False`), in addition to integers, floats, and strings.  For this question, your goal is to determine what happens when you multiply a boolean by any of these data types.  Specifically, \n",
    "- What happens when you multiply an integer or float by `True`?  What happens when you multiply them by `False`?  How does the answer change if the numbers are positive or negative?\n",
    "- What happens when you multiply a string by `True`?  By `False`?\n",
    "\n",
    "Use the next code cell for your investigation. "
   ]
  },
  {
   "cell_type": "code",
   "execution_count": 5,
   "id": "9a5d4d09",
   "metadata": {
    "execution": {
     "iopub.execute_input": "2025-06-25T14:54:07.695710Z",
     "iopub.status.busy": "2025-06-25T14:54:07.695407Z",
     "iopub.status.idle": "2025-06-25T14:54:07.700704Z",
     "shell.execute_reply": "2025-06-25T14:54:07.699768Z"
    },
    "papermill": {
     "duration": 0.011992,
     "end_time": "2025-06-25T14:54:07.702045",
     "exception": false,
     "start_time": "2025-06-25T14:54:07.690053",
     "status": "completed"
    },
    "tags": []
   },
   "outputs": [
    {
     "name": "stdout",
     "output_type": "stream",
     "text": [
      "3\n",
      "-3.1\n",
      "<class 'str'>\n",
      "0\n"
     ]
    }
   ],
   "source": [
    "# Uncomment and run this code to get started!\n",
    "print(3 * True)\n",
    "print(-3.1 * True)\n",
    "print(type(\"abc\" * False))\n",
    "print(len(\"abc\" * False))"
   ]
  },
  {
   "cell_type": "markdown",
   "id": "8ec66c5d",
   "metadata": {
    "papermill": {
     "duration": 0.004356,
     "end_time": "2025-06-25T14:54:07.711272",
     "exception": false,
     "start_time": "2025-06-25T14:54:07.706916",
     "status": "completed"
    },
    "tags": []
   },
   "source": [
    "Once you have an answer, run the code cell below to see the solution.  Viewing the solution will give you credit for answering the problem."
   ]
  },
  {
   "cell_type": "code",
   "execution_count": 6,
   "id": "d8bdb7f9",
   "metadata": {
    "execution": {
     "iopub.execute_input": "2025-06-25T14:54:07.721663Z",
     "iopub.status.busy": "2025-06-25T14:54:07.721354Z",
     "iopub.status.idle": "2025-06-25T14:54:07.727788Z",
     "shell.execute_reply": "2025-06-25T14:54:07.727073Z"
    },
    "papermill": {
     "duration": 0.013065,
     "end_time": "2025-06-25T14:54:07.728950",
     "exception": false,
     "start_time": "2025-06-25T14:54:07.715885",
     "status": "completed"
    },
    "tags": []
   },
   "outputs": [
    {
     "data": {
      "application/javascript": [
       "parent.postMessage({\"jupyterEvent\": \"custom.exercise_interaction\", \"data\": {\"outcomeType\": 1, \"valueTowardsCompletion\": 0.2, \"interactionType\": 1, \"questionType\": 4, \"questionId\": \"2_MultiplyBooleans\", \"learnToolsVersion\": \"0.3.5\", \"failureMessage\": \"\", \"exceptionClass\": \"\", \"trace\": \"\"}}, \"*\")"
      ],
      "text/plain": [
       "<IPython.core.display.Javascript object>"
      ]
     },
     "metadata": {},
     "output_type": "display_data"
    },
    {
     "data": {
      "text/markdown": [
       "<span style=\"color:#33cc33\">Correct:</span> \n",
       "\n",
       "When you multiple an integer or float by a boolean with value `True`, it just returns that same integer or float (and is equivalent to multiplying by 1).  If you multiply an integer or float by a boolean with value `False`, it always returns 0.  This is true for both positive and negative numbers.  If you multiply a string by a boolean with value `True`, it just returns that same string.  And if you multiply a string by a boolean with value `False`, it returns an empty string (or a string with length zero)."
      ],
      "text/plain": [
       "Correct: \n",
       "\n",
       "When you multiple an integer or float by a boolean with value `True`, it just returns that same integer or float (and is equivalent to multiplying by 1).  If you multiply an integer or float by a boolean with value `False`, it always returns 0.  This is true for both positive and negative numbers.  If you multiply a string by a boolean with value `True`, it just returns that same string.  And if you multiply a string by a boolean with value `False`, it returns an empty string (or a string with length zero)."
      ]
     },
     "metadata": {},
     "output_type": "display_data"
    }
   ],
   "source": [
    "# Check your answer (Run this code cell to receive credit!)\n",
    "q2.check()"
   ]
  },
  {
   "cell_type": "markdown",
   "id": "fc6fff81",
   "metadata": {
    "papermill": {
     "duration": 0.004462,
     "end_time": "2025-06-25T14:54:07.738820",
     "exception": false,
     "start_time": "2025-06-25T14:54:07.734358",
     "status": "completed"
    },
    "tags": []
   },
   "source": [
    "# Question 3\n",
    "\n",
    "In this question, you will build off your work from the previous exercise to write a function that estimates the value of a house.\n",
    "\n",
    "Use the next code cell to create a function `get_expected_cost` that takes as input three variables:\n",
    "- `beds` - number of bedrooms (data type float)\n",
    "- `baths` - number of bathrooms (data type float)\n",
    "- `has_basement` - whether or not the house has a basement (data type boolean)\n",
    "\n",
    "It should return the expected cost of a house with those characteristics. Assume that:\n",
    "- the expected cost for a house with 0 bedrooms and 0 bathrooms, and no basement is 80000, \n",
    "- each bedroom adds 30000 to the expected cost,\n",
    "- each bathroom adds 10000 to the expected cost, and\n",
    "- a basement adds 40000 to the expected cost.\n",
    "\n",
    "For instance,\n",
    "- a house with 1 bedroom, 1 bathroom, and no basement has an expected cost of 80000 + 30000 + 10000 = 120000.  This value will be calculated with `get_expected_cost(1, 1, False)`.\n",
    "- a house with 2 bedrooms, 1 bathroom, and a basement has an expected cost of 80000 + 2*30000 + 10000 + 40000 = 190000.  This value will be calculated with `get_expected_cost(2, 1, True)`.\n",
    "\n",
    "Remember you can always get a hint by uncommenting `q3.hint()` in the code cell following the next!"
   ]
  },
  {
   "cell_type": "code",
   "execution_count": 7,
   "id": "55f8e787",
   "metadata": {
    "execution": {
     "iopub.execute_input": "2025-06-25T14:54:07.749419Z",
     "iopub.status.busy": "2025-06-25T14:54:07.749116Z",
     "iopub.status.idle": "2025-06-25T14:54:07.756347Z",
     "shell.execute_reply": "2025-06-25T14:54:07.755519Z"
    },
    "papermill": {
     "duration": 0.014122,
     "end_time": "2025-06-25T14:54:07.757649",
     "exception": false,
     "start_time": "2025-06-25T14:54:07.743527",
     "status": "completed"
    },
    "tags": []
   },
   "outputs": [
    {
     "data": {
      "application/javascript": [
       "parent.postMessage({\"jupyterEvent\": \"custom.exercise_interaction\", \"data\": {\"outcomeType\": 1, \"valueTowardsCompletion\": 0.2, \"interactionType\": 1, \"questionType\": 2, \"questionId\": \"3_EstimateHouseValueBool\", \"learnToolsVersion\": \"0.3.5\", \"failureMessage\": \"\", \"exceptionClass\": \"\", \"trace\": \"\"}}, \"*\")"
      ],
      "text/plain": [
       "<IPython.core.display.Javascript object>"
      ]
     },
     "metadata": {},
     "output_type": "display_data"
    },
    {
     "data": {
      "text/markdown": [
       "<span style=\"color:#33cc33\">Correct</span>"
      ],
      "text/plain": [
       "Correct"
      ]
     },
     "metadata": {},
     "output_type": "display_data"
    }
   ],
   "source": [
    "# TODO: Complete the function\n",
    "def get_expected_cost(beds, baths, has_basement):\n",
    "    value = 80000+30000*beds+10000*baths+40000*has_basement\n",
    "    return value\n",
    "\n",
    "# Check your answer \n",
    "q3.check()"
   ]
  },
  {
   "cell_type": "code",
   "execution_count": 8,
   "id": "29989cf2",
   "metadata": {
    "execution": {
     "iopub.execute_input": "2025-06-25T14:54:07.768706Z",
     "iopub.status.busy": "2025-06-25T14:54:07.768426Z",
     "iopub.status.idle": "2025-06-25T14:54:07.774974Z",
     "shell.execute_reply": "2025-06-25T14:54:07.774295Z"
    },
    "papermill": {
     "duration": 0.013545,
     "end_time": "2025-06-25T14:54:07.776225",
     "exception": false,
     "start_time": "2025-06-25T14:54:07.762680",
     "status": "completed"
    },
    "tags": []
   },
   "outputs": [
    {
     "data": {
      "application/javascript": [
       "parent.postMessage({\"jupyterEvent\": \"custom.exercise_interaction\", \"data\": {\"interactionType\": 2, \"questionType\": 2, \"questionId\": \"3_EstimateHouseValueBool\", \"learnToolsVersion\": \"0.3.5\", \"valueTowardsCompletion\": 0.0, \"failureMessage\": \"\", \"exceptionClass\": \"\", \"trace\": \"\", \"outcomeType\": 4}}, \"*\")"
      ],
      "text/plain": [
       "<IPython.core.display.Javascript object>"
      ]
     },
     "metadata": {},
     "output_type": "display_data"
    },
    {
     "data": {
      "text/markdown": [
       "<span style=\"color:#3366cc\">Hint:</span> The variable `has_basement` is either `True` or `False`.  What happens when you multiply it by 40000 (the value of a basement)?  Refer to the previous question if you are unsure."
      ],
      "text/plain": [
       "Hint: The variable `has_basement` is either `True` or `False`.  What happens when you multiply it by 40000 (the value of a basement)?  Refer to the previous question if you are unsure."
      ]
     },
     "metadata": {},
     "output_type": "display_data"
    }
   ],
   "source": [
    "# Uncomment to see a hint\n",
    "q3.hint()\n",
    "\n",
    "# Uncomment to view the solution\n",
    "#q3.solution()"
   ]
  },
  {
   "cell_type": "markdown",
   "id": "596d6c7c",
   "metadata": {
    "papermill": {
     "duration": 0.005001,
     "end_time": "2025-06-25T14:54:07.786544",
     "exception": false,
     "start_time": "2025-06-25T14:54:07.781543",
     "status": "completed"
    },
    "tags": []
   },
   "source": [
    "# Question 4\n",
    "\n",
    "We'll continue our study of boolean arithmetic.  For this question, your task is to provide a description of what happpens when you add booleans. \n",
    "\n",
    "Use the next code cell for your investigation.  Feel free to add or remove any lines of code - use it as your workspace!"
   ]
  },
  {
   "cell_type": "code",
   "execution_count": 9,
   "id": "cc687959",
   "metadata": {
    "execution": {
     "iopub.execute_input": "2025-06-25T14:54:07.797849Z",
     "iopub.status.busy": "2025-06-25T14:54:07.797592Z",
     "iopub.status.idle": "2025-06-25T14:54:07.802477Z",
     "shell.execute_reply": "2025-06-25T14:54:07.801629Z"
    },
    "papermill": {
     "duration": 0.012057,
     "end_time": "2025-06-25T14:54:07.803703",
     "exception": false,
     "start_time": "2025-06-25T14:54:07.791646",
     "status": "completed"
    },
    "tags": []
   },
   "outputs": [
    {
     "name": "stdout",
     "output_type": "stream",
     "text": [
      "0\n",
      "1\n",
      "1\n",
      "2\n",
      "3\n"
     ]
    }
   ],
   "source": [
    "print(False + False)\n",
    "print(True + False)\n",
    "print(False + True)\n",
    "print(True + True)\n",
    "print(False + True + True + True)"
   ]
  },
  {
   "cell_type": "markdown",
   "id": "ba511edc",
   "metadata": {
    "papermill": {
     "duration": 0.004999,
     "end_time": "2025-06-25T14:54:07.814109",
     "exception": false,
     "start_time": "2025-06-25T14:54:07.809110",
     "status": "completed"
    },
    "tags": []
   },
   "source": [
    "Once you have an answer, run the code cell below to see the solution.  Viewing the solution will give you credit for answering the problem."
   ]
  },
  {
   "cell_type": "code",
   "execution_count": 10,
   "id": "e435b9d6",
   "metadata": {
    "execution": {
     "iopub.execute_input": "2025-06-25T14:54:07.825643Z",
     "iopub.status.busy": "2025-06-25T14:54:07.825348Z",
     "iopub.status.idle": "2025-06-25T14:54:07.831964Z",
     "shell.execute_reply": "2025-06-25T14:54:07.831237Z"
    },
    "papermill": {
     "duration": 0.014069,
     "end_time": "2025-06-25T14:54:07.833263",
     "exception": false,
     "start_time": "2025-06-25T14:54:07.819194",
     "status": "completed"
    },
    "tags": []
   },
   "outputs": [
    {
     "data": {
      "application/javascript": [
       "parent.postMessage({\"jupyterEvent\": \"custom.exercise_interaction\", \"data\": {\"outcomeType\": 1, \"valueTowardsCompletion\": 0.2, \"interactionType\": 1, \"questionType\": 4, \"questionId\": \"4_AddingBooleans\", \"learnToolsVersion\": \"0.3.5\", \"failureMessage\": \"\", \"exceptionClass\": \"\", \"trace\": \"\"}}, \"*\")"
      ],
      "text/plain": [
       "<IPython.core.display.Javascript object>"
      ]
     },
     "metadata": {},
     "output_type": "display_data"
    },
    {
     "data": {
      "text/markdown": [
       "<span style=\"color:#33cc33\">Correct:</span> \n",
       "\n",
       "When you add booleans, adding `False` is equivalent to adding 0, and adding `True` is equivalent to adding 1."
      ],
      "text/plain": [
       "Correct: \n",
       "\n",
       "When you add booleans, adding `False` is equivalent to adding 0, and adding `True` is equivalent to adding 1."
      ]
     },
     "metadata": {},
     "output_type": "display_data"
    }
   ],
   "source": [
    "# Check your answer (Run this code cell to receive credit!)\n",
    "q4.check()"
   ]
  },
  {
   "cell_type": "markdown",
   "id": "865269ae",
   "metadata": {
    "papermill": {
     "duration": 0.00518,
     "end_time": "2025-06-25T14:54:07.844023",
     "exception": false,
     "start_time": "2025-06-25T14:54:07.838843",
     "status": "completed"
    },
    "tags": []
   },
   "source": [
    "# 🌶️ Question 5\n",
    "\n",
    "You own an online shop where you sell rings with custom engravings.  You offer both gold plated and solid gold rings.\n",
    "- Gold plated rings have a base cost of \\\\$50, and you charge \\\\$7 per engraved unit.  \n",
    "- Solid gold rings have a base cost of \\\\$100, and you charge \\\\$10 per engraved unit.\n",
    "- Spaces and punctuation are counted as engraved units.\n",
    "\n",
    "Write a function `cost_of_project()` that takes two arguments:\n",
    "- `engraving` - a Python string with the text of the engraving\n",
    "- `solid_gold` - a Boolean that indicates whether the ring is solid gold\n",
    "\n",
    "It should return the cost of the project.  This question should be fairly challenging, and you may need a hint."
   ]
  },
  {
   "cell_type": "code",
   "execution_count": 11,
   "id": "e8b348f9",
   "metadata": {
    "execution": {
     "iopub.execute_input": "2025-06-25T14:54:07.856128Z",
     "iopub.status.busy": "2025-06-25T14:54:07.855828Z",
     "iopub.status.idle": "2025-06-25T14:54:07.862494Z",
     "shell.execute_reply": "2025-06-25T14:54:07.861672Z"
    },
    "papermill": {
     "duration": 0.014356,
     "end_time": "2025-06-25T14:54:07.863816",
     "exception": false,
     "start_time": "2025-06-25T14:54:07.849460",
     "status": "completed"
    },
    "tags": []
   },
   "outputs": [
    {
     "data": {
      "application/javascript": [
       "parent.postMessage({\"jupyterEvent\": \"custom.exercise_interaction\", \"data\": {\"interactionType\": 2, \"questionType\": 2, \"questionId\": \"5_CustomEngravings\", \"learnToolsVersion\": \"0.3.5\", \"valueTowardsCompletion\": 0.0, \"failureMessage\": \"\", \"exceptionClass\": \"\", \"trace\": \"\", \"outcomeType\": 4}}, \"*\")"
      ],
      "text/plain": [
       "<IPython.core.display.Javascript object>"
      ]
     },
     "metadata": {},
     "output_type": "display_data"
    },
    {
     "data": {
      "text/markdown": [
       "<span style=\"color:#3366cc\">Hint:</span> There are two options - either the project uses solid gold or does not.  With this in mind, you can structure your solution like this: `cost = solid_gold * ____ + (not solid_gold) * ____`.  You need to figure out how to fill in the blanks. Also, remember that:\n",
       "- If `solid_gold = True`, then `(not solid_gold) = False`, and if `solid_gold = False`, then `(not solid_gold) = True`.\n",
       "- Multiplying an integer by `True` is equivalent to multiplying it by 1, and multiplying an integer by `False` is equivalent to multiplying it by 0."
      ],
      "text/plain": [
       "Hint: There are two options - either the project uses solid gold or does not.  With this in mind, you can structure your solution like this: `cost = solid_gold * ____ + (not solid_gold) * ____`.  You need to figure out how to fill in the blanks. Also, remember that:\n",
       "- If `solid_gold = True`, then `(not solid_gold) = False`, and if `solid_gold = False`, then `(not solid_gold) = True`.\n",
       "- Multiplying an integer by `True` is equivalent to multiplying it by 1, and multiplying an integer by `False` is equivalent to multiplying it by 0."
      ]
     },
     "metadata": {},
     "output_type": "display_data"
    }
   ],
   "source": [
    "# Uncomment to see a hint\n",
    "q5.hint()\n",
    "\n",
    "# Uncomment to view the solution\n",
    "#q5.solution()"
   ]
  },
  {
   "cell_type": "markdown",
   "id": "cf2d07bb",
   "metadata": {
    "papermill": {
     "duration": 0.005421,
     "end_time": "2025-06-25T14:54:07.876230",
     "exception": false,
     "start_time": "2025-06-25T14:54:07.870809",
     "status": "completed"
    },
    "tags": []
   },
   "source": [
    "Run the next code cell to calculate the cost of engraving `Charlie+Denver` on a solid gold ring."
   ]
  },
  {
   "cell_type": "code",
   "execution_count": 12,
   "id": "f9394c81",
   "metadata": {
    "execution": {
     "iopub.execute_input": "2025-06-25T14:54:07.888749Z",
     "iopub.status.busy": "2025-06-25T14:54:07.888436Z",
     "iopub.status.idle": "2025-06-25T14:54:07.894974Z",
     "shell.execute_reply": "2025-06-25T14:54:07.893968Z"
    },
    "papermill": {
     "duration": 0.014488,
     "end_time": "2025-06-25T14:54:07.896382",
     "exception": false,
     "start_time": "2025-06-25T14:54:07.881894",
     "status": "completed"
    },
    "tags": []
   },
   "outputs": [
    {
     "name": "stdout",
     "output_type": "stream",
     "text": [
      "240\n"
     ]
    }
   ],
   "source": [
    "def cost_of_project(engraving, solid_gold):\n",
    "    if solid_gold:\n",
    "        base_cost = 100\n",
    "        cost_per_unit = 10\n",
    "    else:\n",
    "        base_cost = 50\n",
    "        cost_per_unit = 7\n",
    "    \n",
    "    engraved_units = len(engraving)  # Spaces and punctuation are counted\n",
    "    total_cost = base_cost + (engraved_units * cost_per_unit)\n",
    "    return total_cost\n",
    "project_one = cost_of_project(\"Charlie+Denver\", True)\n",
    "print(project_one)"
   ]
  },
  {
   "cell_type": "markdown",
   "id": "7a180901",
   "metadata": {
    "papermill": {
     "duration": 0.005602,
     "end_time": "2025-06-25T14:54:07.907685",
     "exception": false,
     "start_time": "2025-06-25T14:54:07.902083",
     "status": "completed"
    },
    "tags": []
   },
   "source": [
    "Use the next code cell to calculate the cost of engraving `08/10/2000` on a gold plated ring."
   ]
  },
  {
   "cell_type": "code",
   "execution_count": 13,
   "id": "30199f7e",
   "metadata": {
    "execution": {
     "iopub.execute_input": "2025-06-25T14:54:07.920281Z",
     "iopub.status.busy": "2025-06-25T14:54:07.919974Z",
     "iopub.status.idle": "2025-06-25T14:54:07.924795Z",
     "shell.execute_reply": "2025-06-25T14:54:07.923804Z"
    },
    "papermill": {
     "duration": 0.01263,
     "end_time": "2025-06-25T14:54:07.926051",
     "exception": false,
     "start_time": "2025-06-25T14:54:07.913421",
     "status": "completed"
    },
    "tags": []
   },
   "outputs": [
    {
     "name": "stdout",
     "output_type": "stream",
     "text": [
      "120\n"
     ]
    }
   ],
   "source": [
    "project_two = cost_of_project(\"08/10/2000\", False)\n",
    "print(project_two)"
   ]
  },
  {
   "cell_type": "markdown",
   "id": "a747850d",
   "metadata": {
    "papermill": {
     "duration": 0.005332,
     "end_time": "2025-06-25T14:54:07.937192",
     "exception": false,
     "start_time": "2025-06-25T14:54:07.931860",
     "status": "completed"
    },
    "tags": []
   },
   "source": [
    "# Keep going\n",
    "\n",
    "Continue to the next lesson to **[learn about conditions and conditional statements](https://www.kaggle.com/alexisbcook/conditions-and-conditional-statements)**."
   ]
  },
  {
   "cell_type": "markdown",
   "id": "93968cd7",
   "metadata": {
    "papermill": {
     "duration": 0.005368,
     "end_time": "2025-06-25T14:54:07.948115",
     "exception": false,
     "start_time": "2025-06-25T14:54:07.942747",
     "status": "completed"
    },
    "tags": []
   },
   "source": [
    "---\n",
    "\n",
    "\n",
    "\n",
    "\n",
    "*Have questions or comments? Visit the [course discussion forum](https://www.kaggle.com/learn/intro-to-programming/discussion) to chat with other learners.*"
   ]
  }
 ],
 "metadata": {
  "kaggle": {
   "accelerator": "none",
   "dataSources": [],
   "isGpuEnabled": false,
   "isInternetEnabled": false,
   "language": "python",
   "sourceType": "notebook"
  },
  "kernelspec": {
   "display_name": "Python 3",
   "language": "python",
   "name": "python3"
  },
  "language_info": {
   "codemirror_mode": {
    "name": "ipython",
    "version": 3
   },
   "file_extension": ".py",
   "mimetype": "text/x-python",
   "name": "python",
   "nbconvert_exporter": "python",
   "pygments_lexer": "ipython3",
   "version": "3.11.11"
  },
  "papermill": {
   "default_parameters": {},
   "duration": 7.626825,
   "end_time": "2025-06-25T14:54:08.473613",
   "environment_variables": {},
   "exception": null,
   "input_path": "__notebook__.ipynb",
   "output_path": "__notebook__.ipynb",
   "parameters": {},
   "start_time": "2025-06-25T14:54:00.846788",
   "version": "2.3.3"
  }
 },
 "nbformat": 4,
 "nbformat_minor": 5
}
